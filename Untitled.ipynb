{
 "cells": [
  {
   "cell_type": "markdown",
   "id": "de7662a2-fd82-4cc6-8005-5e885131f8de",
   "metadata": {},
   "source": [
    "# Meu primeiro notebook!"
   ]
  },
  {
   "cell_type": "code",
   "execution_count": null,
   "id": "26636f3b-487e-4892-8e57-76a8e4da8c13",
   "metadata": {},
   "outputs": [],
   "source": []
  }
 ],
 "metadata": {
  "kernelspec": {
   "display_name": "Python 3 (ipykernel)",
   "language": "python",
   "name": "python3"
  },
  "language_info": {
   "codemirror_mode": {
    "name": "ipython",
    "version": 3
   },
   "file_extension": ".py",
   "mimetype": "text/x-python",
   "name": "python",
   "nbconvert_exporter": "python",
   "pygments_lexer": "ipython3",
   "version": "3.10.11"
  }
 },
 "nbformat": 4,
 "nbformat_minor": 5
}
